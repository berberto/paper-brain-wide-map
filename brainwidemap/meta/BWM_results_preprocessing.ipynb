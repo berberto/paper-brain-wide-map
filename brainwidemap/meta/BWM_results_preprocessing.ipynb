{
 "cells": [
  {
   "cell_type": "code",
   "execution_count": 223,
   "id": "aaa764aa-c9a3-4764-a1cc-76d5c9f738f9",
   "metadata": {},
   "outputs": [],
   "source": [
    "import pandas as pd\n",
    "import numpy as np\n",
    "import matplotlib.pyplot as plt\n",
    "import pandas as pd\n",
    "import numpy as np\n",
    "from functools import reduce\n",
    "from ibllib.atlas import AllenAtlas\n",
    "from ibllib.atlas.regions import BrainRegions\n",
    "from matplotlib.colors import LinearSegmentedColormap\n",
    "import dataframe_image as dfi\n",
    "from ibllib.atlas.flatmaps import plot_swanson\n",
    "import seaborn as sns\n",
    "import matplotlib.pyplot as plt\n",
    "import matplotlib\n",
    "from matplotlib import gridspec\n",
    "from scipy import stats\n",
    "ba = AllenAtlas()\n",
    "br = BrainRegions()"
   ]
  },
  {
   "cell_type": "markdown",
   "id": "1a6cffbb-41db-4bb5-b09f-3fab1a0ee6f7",
   "metadata": {},
   "source": [
    "# GLM "
   ]
  },
  {
   "cell_type": "code",
   "execution_count": 224,
   "id": "12d61249-3cf1-474d-9512-a9b5c639971a",
   "metadata": {},
   "outputs": [],
   "source": [
    "df = pd.read_pickle(\"Results/GLM/berk_coordinated_results.pkl\")"
   ]
  },
  {
   "cell_type": "code",
   "execution_count": 225,
   "id": "7f0ba79f-b24e-4ae9-b4c9-a3ed0be2379e",
   "metadata": {},
   "outputs": [],
   "source": [
    "glm_block_results = df['block']\n",
    "glm_block_results = glm_block_results.rename(columns = {'pLeft': 'glm_effect'})\n",
    "glm_stimulus_results = df['stim'][['stim_diff_abs']]\n",
    "glm_stimulus_results = glm_stimulus_results.rename(columns = {'stim_diff_abs': 'glm_effect'})\n",
    "glm_choice_results = df['choice'][['choice_diff_abs']]\n",
    "glm_choice_results = glm_choice_results.rename(columns = {'choice_diff_abs': 'glm_effect'})                                     \n",
    "glm_feedback_results = df['feedback'][['feedback_diff_abs']]\n",
    "glm_feedback_results = glm_feedback_results.rename(columns = {'feedback_diff_abs': 'glm_effect'})"
   ]
  },
  {
   "cell_type": "markdown",
   "id": "d5a576a0-3c83-4f39-ae97-68efeca59186",
   "metadata": {},
   "source": [
    "# Manifold "
   ]
  },
  {
   "cell_type": "code",
   "execution_count": 226,
   "id": "c69ccc83-b8aa-453d-82a2-8146f8f7848a",
   "metadata": {},
   "outputs": [],
   "source": [
    "# Stimulus\n",
    "euclidean_stimulus_results = pd.read_csv('Results/manifold/stim_restr.csv') \n",
    "euclidean_stimulus_results = euclidean_stimulus_results[['region','amp_euc_can', 'lat_euc']]\n",
    "euclidean_stimulus_results.set_index(\"region\",inplace=True)\n",
    "euclidean_stimulus_results = euclidean_stimulus_results.rename(columns = {'amp_euc_can': 'euclidean_effect',\n",
    "                                                       'lat_euc': 'euclidean_latency'})\n",
    "# choice\n",
    "euclidean_choice_results = pd.read_csv('Results/manifold/choice_restr.csv') \n",
    "euclidean_choice_results = euclidean_choice_results[['region','amp_euc_can', 'lat_euc']]\n",
    "euclidean_choice_results.set_index(\"region\",inplace=True)\n",
    "euclidean_choice_results = euclidean_choice_results.rename(columns = {'amp_euc_can': 'euclidean_effect',\n",
    "                                                       'lat_euc': 'euclidean_latency'})\n",
    "\n",
    "# block\n",
    "euclidean_block_results = pd.read_csv('Results/manifold/block_restr.csv') \n",
    "euclidean_block_results = euclidean_block_results[['region','amp_euc_can', 'lat_euc']]\n",
    "euclidean_block_results.set_index(\"region\",inplace=True)\n",
    "euclidean_block_results = euclidean_block_results.rename(columns = {'amp_euc_can': 'euclidean_effect',\n",
    "                                                       'lat_euc': 'euclidean_latency'})\n",
    "\n",
    "# feedback\n",
    "euclidean_feedback_results = pd.read_csv('Results/manifold/fback_restr.csv') \n",
    "euclidean_feedback_results = euclidean_feedback_results[['region','amp_euc_can', 'lat_euc']]\n",
    "euclidean_feedback_results.set_index(\"region\",inplace=True)\n",
    "euclidean_feedback_results = euclidean_feedback_results.rename(columns = {'amp_euc_can': 'euclidean_effect',\n",
    "                                                       'lat_euc': 'euclidean_latency'})\n",
    "\n"
   ]
  },
  {
   "cell_type": "markdown",
   "id": "85c27f6d-3fe9-43c0-a06c-2f91839d5738",
   "metadata": {},
   "source": [
    "# Condition combined Mann Whitney"
   ]
  },
  {
   "cell_type": "code",
   "execution_count": 227,
   "id": "9540aba3-7229-4d1e-a597-fc84c603a2b6",
   "metadata": {},
   "outputs": [],
   "source": [
    "mannwhitney_results = pd.read_csv('Results/mannwhitney/mannwhitney_results.csv') "
   ]
  },
  {
   "cell_type": "code",
   "execution_count": 228,
   "id": "2a08d649-138e-4d70-b316-4f87c5917ab7",
   "metadata": {},
   "outputs": [],
   "source": [
    "# Stimulus\n",
    "mannwhitney_stimulus_results = mannwhitney_results[['Acryonm','[stim] fraction of significance']]\n",
    "mannwhitney_stimulus_results = mannwhitney_stimulus_results.rename(columns = {'Acryonm': 'region',\n",
    "                                                       '[stim] fraction of significance': 'mannwhitney_effect'})\n",
    "mannwhitney_stimulus_results=mannwhitney_stimulus_results.dropna(axis=0,how='any',subset=['mannwhitney_effect'])\n",
    "mannwhitney_stimulus_results.set_index(\"region\",inplace=True)\n",
    "\n",
    "# Choice\n",
    "mannwhitney_choice_results = mannwhitney_results[['Acryonm','[choice] fraction of significance']]\n",
    "mannwhitney_choice_results = mannwhitney_choice_results.rename(columns = {'Acryonm': 'region',\n",
    "                                                       '[choice] fraction of significance': 'mannwhitney_effect'})\n",
    "mannwhitney_choice_results=mannwhitney_choice_results.dropna(axis=0,how='any',subset=['mannwhitney_effect'])\n",
    "mannwhitney_choice_results.set_index(\"region\",inplace=True)\n",
    "\n",
    "# Block\n",
    "mannwhitney_block_results = mannwhitney_results[['Acryonm','[block] fraction of significance']]\n",
    "mannwhitney_block_results = mannwhitney_block_results.rename(columns = {'Acryonm': 'region',\n",
    "                                                       '[block] fraction of significance': 'mannwhitney_effect'})\n",
    "mannwhitney_block_results=mannwhitney_block_results.dropna(axis=0,how='any',subset=['mannwhitney_effect'])\n",
    "mannwhitney_block_results.set_index(\"region\",inplace=True)\n",
    "\n",
    "# feedback\n",
    "mannwhitney_feedback_results = mannwhitney_results[['Acryonm','[feeback]fracion of significance']]\n",
    "mannwhitney_feedback_results = mannwhitney_feedback_results.rename(columns = {'Acryonm': 'region',\n",
    "                                                       '[feeback]fracion of significance': 'mannwhitney_effect'})\n",
    "mannwhitney_feedback_results=mannwhitney_feedback_results.dropna(axis=0,how='any',subset=['mannwhitney_effect'])\n",
    "mannwhitney_feedback_results.set_index(\"region\",inplace=True)"
   ]
  },
  {
   "cell_type": "markdown",
   "id": "d6389818-494e-406c-9625-590e0f40884f",
   "metadata": {},
   "source": [
    "# Decoding"
   ]
  },
  {
   "cell_type": "code",
   "execution_count": 229,
   "id": "aff48499-7b6a-43db-8c3a-462057108bdc",
   "metadata": {},
   "outputs": [],
   "source": [
    "# Stimulus\n",
    "bwm_stimulus_results = pd.read_csv('Results/All/bwm_results_stimside.csv') \n",
    "decoding_stimulus_results = bwm_stimulus_results[['region','values_median']]\n",
    "decoding_stimulus_results = decoding_stimulus_results.rename(columns = {'values_median': 'decoding_effect'})\n",
    "decoding_stimulus_results=decoding_stimulus_results.dropna(axis=0,how='any',subset=['decoding_effect'])\n",
    "decoding_stimulus_results.set_index(\"region\",inplace=True)\n",
    "\n",
    "# Choice\n",
    "decoding_choice_results = pd.read_csv('Results/Decoding/decoding_results_choice.csv') \n",
    "decoding_choice_results = decoding_choice_results[['region','valuesminusnull_median']]\n",
    "decoding_choice_results = decoding_choice_results.rename(columns = {'valuesminusnull_median': 'decoding_effect'})\n",
    "decoding_choice_results=decoding_choice_results.dropna(axis=0,how='any',subset=['decoding_effect'])\n",
    "decoding_choice_results.set_index(\"region\",inplace=True)\n",
    "\n",
    "# Block\n",
    "decoding_block_results = pd.read_csv('Results/Decoding/decoding_results_block.csv') \n",
    "decoding_block_results = decoding_block_results[['region','valuesminusnull_median']]\n",
    "decoding_block_results = decoding_block_results.rename(columns = {'valuesminusnull_median': 'decoding_effect'})\n",
    "decoding_block_results=decoding_block_results.dropna(axis=0,how='any',subset=['decoding_effect'])\n",
    "decoding_block_results.set_index(\"region\",inplace=True)\n",
    "\n",
    "# feedback\n",
    "decoding_feedback_results = pd.read_csv('Results/Decoding/decoding_results_feedback.csv') \n",
    "decoding_feedback_results = decoding_feedback_results[['region','valuesminusnull_median']]\n",
    "decoding_feedback_results = decoding_feedback_results.rename(columns = {'valuesminusnull_median': 'decoding_effect'})\n",
    "decoding_feedback_results=decoding_feedback_results.dropna(axis=0,how='any',subset=['decoding_effect'])\n",
    "decoding_feedback_results.set_index(\"region\",inplace=True)"
   ]
  },
  {
   "cell_type": "markdown",
   "id": "349ba2fb-a8c3-4828-a3c1-c4c609bd1398",
   "metadata": {},
   "source": [
    "# Merge results across analyses for each variable"
   ]
  },
  {
   "cell_type": "code",
   "execution_count": 230,
   "id": "71b7a939-8f2f-403e-86eb-65a6d96794f5",
   "metadata": {},
   "outputs": [],
   "source": [
    "stimulus_merged_results = euclidean_stimulus_results.merge(glm_stimulus_results,how='inner',on='region')\n",
    "stimulus_merged_results = stimulus_merged_results.merge(mannwhitney_stimulus_results,how='inner',on='region') \n",
    "stimulus_merged_results = stimulus_merged_results.merge(decoding_stimulus_results,how='inner',on='region') \n",
    "\n",
    "choice_merged_results = euclidean_choice_results.merge(glm_choice_results,how='inner',on='region')\n",
    "choice_merged_results = choice_merged_results.merge(mannwhitney_choice_results,how='inner',on='region') \n",
    "choice_merged_results = choice_merged_results.merge(decoding_choice_results,how='inner',on='region') \n",
    "\n",
    "block_merged_results = euclidean_block_results.merge(glm_block_results,how='inner',on='region')\n",
    "block_merged_results = block_merged_results.merge(mannwhitney_block_results,how='inner',on='region') \n",
    "block_merged_results = block_merged_results.merge(decoding_block_results,how='inner',on='region') \n",
    "\n",
    "feedback_merged_results = euclidean_feedback_results.merge(glm_feedback_results,how='inner',on='region')\n",
    "feedback_merged_results = feedback_merged_results.merge(mannwhitney_feedback_results,how='inner',on='region') \n",
    "feedback_merged_results = feedback_merged_results.merge(decoding_feedback_results,how='inner',on='region') "
   ]
  },
  {
   "cell_type": "code",
   "execution_count": 231,
   "id": "fecd66f2-c503-443d-8715-4c8f853736e1",
   "metadata": {},
   "outputs": [],
   "source": [
    "stimulus_merged_results.to_pickle(\"Results/stimulus_results.pkl\")\n",
    "choice_merged_results.to_pickle(\"Results/choice_results.pkl\")\n",
    "block_merged_results.to_pickle(\"Results/block_results.pkl\")\n",
    "feedback_merged_results.to_pickle(\"Results/feedback_results.pkl\")"
   ]
  },
  {
   "cell_type": "code",
   "execution_count": null,
   "id": "cd17049c-1c9d-469e-88c1-ea88a417ec1e",
   "metadata": {},
   "outputs": [],
   "source": []
  }
 ],
 "metadata": {
  "kernelspec": {
   "display_name": "Python 3 (ipykernel)",
   "language": "python",
   "name": "python3"
  },
  "language_info": {
   "codemirror_mode": {
    "name": "ipython",
    "version": 3
   },
   "file_extension": ".py",
   "mimetype": "text/x-python",
   "name": "python",
   "nbconvert_exporter": "python",
   "pygments_lexer": "ipython3",
   "version": "3.9.16"
  }
 },
 "nbformat": 4,
 "nbformat_minor": 5
}
